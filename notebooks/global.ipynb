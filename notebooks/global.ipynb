{
 "cells": [
  {
   "cell_type": "code",
   "execution_count": null,
   "id": "f96174ad",
   "metadata": {},
   "outputs": [],
   "source": [
    "# multiple items in output\n",
    "\n",
    "from IPython.core.interactiveshell import InteractiveShell\n",
    "InteractiveShell.ast_node_interactivity = \"all\""
   ]
  },
  {
   "cell_type": "code",
   "execution_count": null,
   "id": "01f59a67",
   "metadata": {},
   "outputs": [],
   "source": [
    "# load and ispect dataset\n",
    "\n",
    "import pandas as pd\n",
    "data = pd.read_csv(\"../data.csv\", index_col=[0])\n",
    "data = data.drop(\"Unnamed: 32\", axis=1)\n",
    "# benign = 1, malign = 0\n",
    "data[\"diagnosis\"] = (data[\"diagnosis\"] == \"B\").astype(int)\n",
    "\n",
    "data.columns\n",
    "data.dtypes\n",
    "data"
   ]
  },
  {
   "cell_type": "code",
   "execution_count": null,
   "id": "0286fc15",
   "metadata": {},
   "outputs": [],
   "source": [
    "# correlation with diagnosis column\n",
    "#    0.9 to 1 positive or negative indicates a very strong correlation.\n",
    "#    0.7 to 0.9 positive or negative indicates a strong correlation.\n",
    "#    0.5 to 0.7 positive or negative indicates a moderate correlation.\n",
    "#    0.3 to 0.5 positive or negative indicates a weak correlation.\n",
    "#    0 to 0.3 positive or negative indicates a negligible correlation.\n",
    "# (https://medium.com/brdata/correlation-straight-to-the-point-e692ab601f4c)\n",
    "\n",
    "corrs = data.corr().sort_values(by=\"diagnosis\", key=lambda x: -x.abs())\n",
    "corrs[corrs[\"diagnosis\"].abs() >= 0.7][\"diagnosis\"]"
   ]
  },
  {
   "cell_type": "code",
   "execution_count": null,
   "id": "87f478c9",
   "metadata": {},
   "outputs": [],
   "source": [
    "# filter data with strong correlation (see cell above)\n",
    "\n",
    "correlated_data = data.filter(items=[\n",
    "    \"diagnosis\",\n",
    "    \"concave points_worst\",\n",
    "    \"perimeter_worst\",\n",
    "    \"concave points_mean\",\n",
    "    \"radius_worst\",\n",
    "    \"perimeter_mean\",\n",
    "    \"area_worst\",\n",
    "    \"radius_mean\",\n",
    "    \"area_mean\"\n",
    "])\n",
    "correlated_data"
   ]
  },
  {
   "cell_type": "code",
   "execution_count": null,
   "id": "fb04c10d",
   "metadata": {},
   "outputs": [],
   "source": [
    "# prepare training and testing data\n",
    "\n",
    "X = correlated_data.drop(\"diagnosis\", axis=1)\n",
    "X = X.values\n",
    "y = correlated_data[\"diagnosis\"]\n",
    "y = y.values\n",
    "\n",
    "X\n",
    "y"
   ]
  },
  {
   "cell_type": "code",
   "execution_count": null,
   "id": "1fa1e0a9",
   "metadata": {},
   "outputs": [],
   "source": [
    "# split into training and testing set\n",
    "\n",
    "from sklearn.model_selection import train_test_split\n",
    "X_train, X_test, y_train, y_test = train_test_split(\n",
    "    X, y, test_size=0.2, random_state=5\n",
    ")\n",
    "\n",
    "X_train\n",
    "X_test\n",
    "y_train\n",
    "y_test"
   ]
  }
 ],
 "metadata": {
  "kernelspec": {
   "display_name": "Python 3 (ipykernel)",
   "language": "python",
   "name": "python3"
  },
  "language_info": {
   "codemirror_mode": {
    "name": "ipython",
    "version": 3
   },
   "file_extension": ".py",
   "mimetype": "text/x-python",
   "name": "python",
   "nbconvert_exporter": "python",
   "pygments_lexer": "ipython3",
   "version": "3.11.3"
  }
 },
 "nbformat": 4,
 "nbformat_minor": 5
}
